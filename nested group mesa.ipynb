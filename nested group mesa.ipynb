{
 "cells": [
  {
   "cell_type": "markdown",
   "id": "missing-earthquake",
   "metadata": {},
   "source": [
    "## Nested groups and discrimination in a dynamic process\n",
    "### have 2 large groups and 4 subgroups \n",
    "   - two systems of higher-lower\n",
    "   - larger vs smaller groups\n",
    "\n",
    "### ingroup nepotism so give more\n",
    "\n",
    "### inclination to any identity depends on the social statues (in prev papers)\n",
    "   - dep on aggreagte wealth\n",
    "   - the more the higher\n",
    "    \n",
    "### policy intervention\n",
    "   - helpin whatever the better performing\n",
    "   - helping idiosyncratically"
   ]
  },
  {
   "cell_type": "code",
   "execution_count": null,
   "id": "voluntary-happening",
   "metadata": {},
   "outputs": [],
   "source": []
  },
  {
   "cell_type": "code",
   "execution_count": 1,
   "id": "later-thriller",
   "metadata": {},
   "outputs": [],
   "source": [
    "from mesa import Agent, Model\n",
    "from mesa.time import RandomActivation\n",
    "from mesa.datacollection import DataCollector\n",
    "from mesa.batchrunner import BatchRunner\n",
    "import random\n",
    "import pandas as pd\n",
    "import numpy as np\n",
    "import seaborn as sns"
   ]
  },
  {
   "cell_type": "code",
   "execution_count": 2,
   "id": "funny-sword",
   "metadata": {},
   "outputs": [],
   "source": [
    "def gen_type_lst(num_agent):\n",
    "    r = num_agent % 4\n",
    "    num_no_res = num_agent - r\n",
    "    num_avg = int(num_no_res / 4)\n",
    "    lst_types = []\n",
    "    types = [1,2,3,4]\n",
    "    #for equal group sizes\n",
    "    #for i in range(1,5):\n",
    "        #lst_i = [i][:]*num_avg\n",
    "        #lst_types += lst_i\n",
    "    \n",
    "    for i in [1,2]:\n",
    "        if i == 1:\n",
    "            num_small = round(num_avg*random.uniform(0.5,0.8))\n",
    "            lst_i = [i][:]*num_small\n",
    "            lst_types += lst_i\n",
    "\n",
    "            num_3 = num_avg * 2 - num_small\n",
    "            lst_3 = [3][:]*num_3\n",
    "            lst_types += lst_3\n",
    "        elif i == 2:\n",
    "            num_small = round(num_avg*random.uniform(0,0.2))\n",
    "            lst_i = [i][:]*num_small\n",
    "            lst_types += lst_i\n",
    "            \n",
    "            num_4 = num_avg * 2 - num_small\n",
    "            lst_4 = [4][:]*num_4\n",
    "            lst_types += lst_4\n",
    "             \n",
    "    for _ in range(r):\n",
    "        i = random.choice(types)\n",
    "        lst_types.append(i)\n",
    "        types.remove(i)\n",
    "    return lst_types\n",
    "            \n",
    "class Agent(Agent):\n",
    "    \"\"\" An agent with fixed initial wealth.\"\"\"\n",
    "    def __init__(self, unique_id, model):\n",
    "        super().__init__(unique_id, model)\n",
    "        self.wealth = 0\n",
    "        r = random.choice(self.model.index)\n",
    "        rand = self.model.lst_types[r]\n",
    "        self.type = rand\n",
    "        self.init_type = rand\n",
    "        self.model.index.remove(r)\n",
    "        self.met = [self.unique_id]  \n",
    "            \n",
    "    def step(self):\n",
    "        self.set_type()\n",
    "        while len(self.met) != len(self.model.schedule.agents):\n",
    "            other_agent = self.random.choice(self.model.schedule.agents)\n",
    "            if other_agent.unique_id not in self.met:\n",
    "                empha = self.empha_lower()\n",
    "                propo = self.gen_propo(other_agent, empha)\n",
    "                propo = self.propo_res(propo)\n",
    "                giving = round(propo * 10)\n",
    "                other_agent.wealth += giving\n",
    "                self.wealth += (10 - giving)\n",
    "                self.met.append(other_agent.unique_id)\n",
    "                self.model.giving_df.loc[len(self.model.giving_df.index)] = [self.init_type, self.type, other_agent.init_type,empha,giving,propo]\n",
    "                \n",
    "    def set_type(self):\n",
    "        typ = self.type\n",
    "        if typ in [1,3]:\n",
    "            h_type = [1,3]\n",
    "        else:\n",
    "            h_type = [2,4]\n",
    "        wealth_l = 0\n",
    "        num_l = 0\n",
    "        wealth_h = 0\n",
    "        num_h = 0\n",
    "        for a in self.model.schedule.agents:\n",
    "            if a.type == typ:\n",
    "                wealth_l += a.wealth\n",
    "                wealth_h += a.wealth\n",
    "                num_l += 1\n",
    "                num_h += 1\n",
    "            elif a.type in h_type:\n",
    "                wealth_h += a.wealth\n",
    "                num_h += 1\n",
    "        avg_l = wealth_l / num_l\n",
    "        avg_h = wealth_h / num_h\n",
    "        \n",
    "        if avg_l < avg_h:    #equal is considered in as emphasizing lower based on data and results\n",
    "            self.type = h_type\n",
    "              \n",
    "    def empha_lower(self):\n",
    "        if type(self.type) == int:\n",
    "            empha = True\n",
    "        else:\n",
    "            empha = False\n",
    "        return empha\n",
    "            \n",
    "    \n",
    "    def gen_propo(self,other,empha_lower):\n",
    "        propo = random.uniform(0,0.3)\n",
    "        rand = random.uniform(0,1)\n",
    "        if rand >= 0.6:     #assuming 30% ppl discriminate; will dep on data as input\n",
    "            if type(other.type) == int:\n",
    "                if empha_lower == True:\n",
    "                    if self.type % 2 == other.type % 2:\n",
    "                        propo += random.uniform(0,0.3)\n",
    "                        if self.type == other.type:\n",
    "                            propo += random.uniform(0,0.3)\n",
    "                else:\n",
    "                    if other.type in self.type:\n",
    "                        propo += random.uniform(0,0.3)\n",
    "            else:\n",
    "                if other.type == self.type:\n",
    "                    propo += random.uniform(0,0.3)\n",
    "        else:\n",
    "            propo = random.uniform(0,1)\n",
    "\n",
    "        return propo\n",
    "    \n",
    "    def propo_res(self,propo):\n",
    "        rand = random.uniform(0,1)\n",
    "        if rand <= 0.75:    #will input based on lit\n",
    "            actual_propo = propo * 0.5\n",
    "        else:\n",
    "            actual_propo = propo\n",
    "            \n",
    "        return actual_propo \n",
    "\n",
    "class Model(Model):\n",
    "    \"\"\"A model with some number of agents.\"\"\"\n",
    "    def __init__(self, N, seed = None):\n",
    "        self.num_agents = N\n",
    "        self.schedule = RandomActivation(self)\n",
    "        self.running = True\n",
    "        self.giving_df = pd.DataFrame(columns=['init_type','type','other type','empha','giving','propo'])\n",
    "        self.lst_types = gen_type_lst(N)\n",
    "        self.index = list(range(N))\n",
    "        # Create agents\n",
    "        for i in range(self.num_agents):\n",
    "            a = Agent(i, self)\n",
    "            self.schedule.add(a)    #seems like a list of all agents\n",
    "\n",
    "    def step(self):\n",
    "        '''Advance the model by one step.'''\n",
    "        self.schedule.step()"
   ]
  },
  {
   "cell_type": "code",
   "execution_count": 87,
   "id": "intense-intro",
   "metadata": {},
   "outputs": [
    {
     "data": {
      "text/plain": [
       "[1, 1, 1, 3, 3, 3, 3, 3, 4, 4, 4, 4, 4, 4, 4, 4]"
      ]
     },
     "execution_count": 87,
     "metadata": {},
     "output_type": "execute_result"
    }
   ],
   "source": [
    "gen_type_lst(16)"
   ]
  },
  {
   "cell_type": "code",
   "execution_count": 4,
   "id": "charitable-pattern",
   "metadata": {},
   "outputs": [
    {
     "ename": "IndexError",
     "evalue": "list index out of range",
     "output_type": "error",
     "traceback": [
      "\u001b[0;31m---------------------------------------------------------------------------\u001b[0m",
      "\u001b[0;31mIndexError\u001b[0m                                Traceback (most recent call last)",
      "\u001b[0;32m<ipython-input-4-1d08e637eba4>\u001b[0m in \u001b[0;36m<module>\u001b[0;34m\u001b[0m\n\u001b[0;32m----> 1\u001b[0;31m \u001b[0mm\u001b[0m \u001b[0;34m=\u001b[0m \u001b[0mModel\u001b[0m\u001b[0;34m(\u001b[0m\u001b[0;36m16\u001b[0m\u001b[0;34m)\u001b[0m\u001b[0;34m\u001b[0m\u001b[0;34m\u001b[0m\u001b[0m\n\u001b[0m",
      "\u001b[0;32m<ipython-input-2-409438767767>\u001b[0m in \u001b[0;36m__init__\u001b[0;34m(self, N, seed)\u001b[0m\n\u001b[1;32m    129\u001b[0m         \u001b[0;31m# Create agents\u001b[0m\u001b[0;34m\u001b[0m\u001b[0;34m\u001b[0m\u001b[0;34m\u001b[0m\u001b[0m\n\u001b[1;32m    130\u001b[0m         \u001b[0;32mfor\u001b[0m \u001b[0mi\u001b[0m \u001b[0;32min\u001b[0m \u001b[0mrange\u001b[0m\u001b[0;34m(\u001b[0m\u001b[0mself\u001b[0m\u001b[0;34m.\u001b[0m\u001b[0mnum_agents\u001b[0m\u001b[0;34m)\u001b[0m\u001b[0;34m:\u001b[0m\u001b[0;34m\u001b[0m\u001b[0;34m\u001b[0m\u001b[0m\n\u001b[0;32m--> 131\u001b[0;31m             \u001b[0ma\u001b[0m \u001b[0;34m=\u001b[0m \u001b[0mAgent\u001b[0m\u001b[0;34m(\u001b[0m\u001b[0mi\u001b[0m\u001b[0;34m,\u001b[0m \u001b[0mself\u001b[0m\u001b[0;34m)\u001b[0m\u001b[0;34m\u001b[0m\u001b[0;34m\u001b[0m\u001b[0m\n\u001b[0m\u001b[1;32m    132\u001b[0m             \u001b[0mself\u001b[0m\u001b[0;34m.\u001b[0m\u001b[0mschedule\u001b[0m\u001b[0;34m.\u001b[0m\u001b[0madd\u001b[0m\u001b[0;34m(\u001b[0m\u001b[0ma\u001b[0m\u001b[0;34m)\u001b[0m    \u001b[0;31m#seems like a list of all agents\u001b[0m\u001b[0;34m\u001b[0m\u001b[0;34m\u001b[0m\u001b[0m\n\u001b[1;32m    133\u001b[0m \u001b[0;34m\u001b[0m\u001b[0m\n",
      "\u001b[0;32m<ipython-input-2-409438767767>\u001b[0m in \u001b[0;36m__init__\u001b[0;34m(self, unique_id, model)\u001b[0m\n\u001b[1;32m     35\u001b[0m         \u001b[0mself\u001b[0m\u001b[0;34m.\u001b[0m\u001b[0mwealth\u001b[0m \u001b[0;34m=\u001b[0m \u001b[0;36m0\u001b[0m\u001b[0;34m\u001b[0m\u001b[0;34m\u001b[0m\u001b[0m\n\u001b[1;32m     36\u001b[0m         \u001b[0mr\u001b[0m \u001b[0;34m=\u001b[0m \u001b[0mrandom\u001b[0m\u001b[0;34m.\u001b[0m\u001b[0mchoice\u001b[0m\u001b[0;34m(\u001b[0m\u001b[0mself\u001b[0m\u001b[0;34m.\u001b[0m\u001b[0mmodel\u001b[0m\u001b[0;34m.\u001b[0m\u001b[0mindex\u001b[0m\u001b[0;34m)\u001b[0m\u001b[0;34m\u001b[0m\u001b[0;34m\u001b[0m\u001b[0m\n\u001b[0;32m---> 37\u001b[0;31m         \u001b[0mrand\u001b[0m \u001b[0;34m=\u001b[0m \u001b[0mself\u001b[0m\u001b[0;34m.\u001b[0m\u001b[0mmodel\u001b[0m\u001b[0;34m.\u001b[0m\u001b[0mlst_types\u001b[0m\u001b[0;34m[\u001b[0m\u001b[0mr\u001b[0m\u001b[0;34m]\u001b[0m\u001b[0;34m\u001b[0m\u001b[0;34m\u001b[0m\u001b[0m\n\u001b[0m\u001b[1;32m     38\u001b[0m         \u001b[0mself\u001b[0m\u001b[0;34m.\u001b[0m\u001b[0mtype\u001b[0m \u001b[0;34m=\u001b[0m \u001b[0mrand\u001b[0m\u001b[0;34m\u001b[0m\u001b[0;34m\u001b[0m\u001b[0m\n\u001b[1;32m     39\u001b[0m         \u001b[0mself\u001b[0m\u001b[0;34m.\u001b[0m\u001b[0minit_type\u001b[0m \u001b[0;34m=\u001b[0m \u001b[0mrand\u001b[0m\u001b[0;34m\u001b[0m\u001b[0;34m\u001b[0m\u001b[0m\n",
      "\u001b[0;31mIndexError\u001b[0m: list index out of range"
     ]
    }
   ],
   "source": [
    "m = Model(16)"
   ]
  },
  {
   "cell_type": "code",
   "execution_count": 4,
   "id": "functional-actor",
   "metadata": {},
   "outputs": [
    {
     "data": {
      "text/plain": [
       "[0, 0, 0, 0, 0, 0, 0, 0, 0, 0, 0, 0, 0, 0, 0, 0]"
      ]
     },
     "execution_count": 4,
     "metadata": {},
     "output_type": "execute_result"
    }
   ],
   "source": [
    "[i.wealth for i in m.schedule.agents]"
   ]
  },
  {
   "cell_type": "markdown",
   "id": "individual-minneapolis",
   "metadata": {},
   "source": [
    "### ?why i have to restart kernel multiple times to run it repeatedly?"
   ]
  },
  {
   "cell_type": "code",
   "execution_count": 3,
   "id": "sunset-irish",
   "metadata": {},
   "outputs": [],
   "source": [
    "df = []\n",
    "for _ in range(100):\n",
    "    m = Model(16)\n",
    "    m.step()\n",
    "    df.append(m.giving_df)\n",
    "dff=pd.concat(df)"
   ]
  },
  {
   "cell_type": "code",
   "execution_count": 18,
   "id": "engaging-condition",
   "metadata": {},
   "outputs": [
    {
     "data": {
      "text/plain": [
       "0      4\n",
       "1      4\n",
       "2      4\n",
       "3      4\n",
       "4      4\n",
       "      ..\n",
       "235    3\n",
       "236    3\n",
       "237    3\n",
       "238    3\n",
       "239    3\n",
       "Name: type, Length: 24000, dtype: object"
      ]
     },
     "execution_count": 18,
     "metadata": {},
     "output_type": "execute_result"
    }
   ],
   "source": [
    "dff['type']"
   ]
  },
  {
   "cell_type": "code",
   "execution_count": null,
   "id": "massive-thailand",
   "metadata": {},
   "outputs": [],
   "source": []
  },
  {
   "cell_type": "code",
   "execution_count": 7,
   "id": "fewer-semiconductor",
   "metadata": {},
   "outputs": [],
   "source": [
    "g_out = []\n",
    "g_h_in = []\n",
    "g_l_in = []\n",
    "empha = []\n",
    "for r in dff.iterrows():\n",
    "    if r[1][0] == r[1][2]:\n",
    "        g_l_in.append(r[1][4])\n",
    "    elif r[1][0]%2 == r[1][2]%2:\n",
    "        g_h_in.append(r[1][4])\n",
    "    else:\n",
    "        g_out.append(r[1][4])\n",
    "    empha.append(r[1][3])"
   ]
  },
  {
   "cell_type": "code",
   "execution_count": 5,
   "id": "serious-salad",
   "metadata": {},
   "outputs": [],
   "source": [
    "import matplotlib.pyplot as plt"
   ]
  },
  {
   "cell_type": "markdown",
   "id": "respiratory-building",
   "metadata": {},
   "source": [
    "#### with disc percent = 30%"
   ]
  },
  {
   "cell_type": "code",
   "execution_count": 7,
   "id": "stylish-there",
   "metadata": {},
   "outputs": [
    {
     "data": {
      "text/plain": [
       "(array([1079., 2157., 2245., 1497.,  863.,  923.,  864.,  906.,  910.,\n",
       "        1356.]),\n",
       " array([ 0.,  1.,  2.,  3.,  4.,  5.,  6.,  7.,  8.,  9., 10.]),\n",
       " <BarContainer object of 10 artists>)"
      ]
     },
     "execution_count": 7,
     "metadata": {},
     "output_type": "execute_result"
    },
    {
     "data": {
      "image/png": "[encoded data removed]",
      "text/plain": [
       "<Figure size 432x288 with 1 Axes>"
      ]
     },
     "metadata": {
      "needs_background": "light"
     },
     "output_type": "display_data"
    }
   ],
   "source": [
    "plt.hist(g_out) "
   ]
  },
  {
   "cell_type": "code",
   "execution_count": 8,
   "id": "confidential-arabic",
   "metadata": {},
   "outputs": [
    {
     "data": {
      "text/plain": [
       "(array([305., 768., 913., 984., 757., 622., 449., 460., 454., 688.]),\n",
       " array([ 0.,  1.,  2.,  3.,  4.,  5.,  6.,  7.,  8.,  9., 10.]),\n",
       " <BarContainer object of 10 artists>)"
      ]
     },
     "execution_count": 8,
     "metadata": {},
     "output_type": "execute_result"
    },
    {
     "data": {
      "image/png": "[encoded data removed]",
      "text/plain": [
       "<Figure size 432x288 with 1 Axes>"
      ]
     },
     "metadata": {
      "needs_background": "light"
     },
     "output_type": "display_data"
    }
   ],
   "source": [
    "plt.hist(g_h_in)"
   ]
  },
  {
   "cell_type": "code",
   "execution_count": 9,
   "id": "raising-stocks",
   "metadata": {},
   "outputs": [
    {
     "data": {
      "text/plain": [
       "(array([170., 450., 577., 673., 683., 585., 415., 393., 329., 525.]),\n",
       " array([ 0.,  1.,  2.,  3.,  4.,  5.,  6.,  7.,  8.,  9., 10.]),\n",
       " <BarContainer object of 10 artists>)"
      ]
     },
     "execution_count": 9,
     "metadata": {},
     "output_type": "execute_result"
    },
    {
     "data": {
      "image/png": "[encoded data removed]",
      "text/plain": [
       "<Figure size 432x288 with 1 Axes>"
      ]
     },
     "metadata": {
      "needs_background": "light"
     },
     "output_type": "display_data"
    }
   ],
   "source": [
    "plt.hist(g_l_in)"
   ]
  },
  {
   "cell_type": "markdown",
   "id": "available-engine",
   "metadata": {},
   "source": [
    "#### with disc percent = 40%"
   ]
  },
  {
   "cell_type": "code",
   "execution_count": 8,
   "id": "growing-camera",
   "metadata": {},
   "outputs": [
    {
     "data": {
      "text/plain": [
       "(array([1179., 2444., 2459., 1656.,  784.,  773.,  763.,  824.,  729.,\n",
       "        1189.]),\n",
       " array([ 0.,  1.,  2.,  3.,  4.,  5.,  6.,  7.,  8.,  9., 10.]),\n",
       " <BarContainer object of 10 artists>)"
      ]
     },
     "execution_count": 8,
     "metadata": {},
     "output_type": "execute_result"
    },
    {
     "data": {
      "image/png": "[encoded data removed]",
      "text/plain": [
       "<Figure size 432x288 with 1 Axes>"
      ]
     },
     "metadata": {
      "needs_background": "light"
     },
     "output_type": "display_data"
    }
   ],
   "source": [
    "plt.hist(g_out) "
   ]
  },
  {
   "cell_type": "code",
   "execution_count": 9,
   "id": "colonial-haiti",
   "metadata": {},
   "outputs": [
    {
     "data": {
      "text/plain": [
       "(array([ 290.,  774., 1044., 1093.,  821.,  631.,  418.,  390.,  369.,\n",
       "         570.]),\n",
       " array([ 0.,  1.,  2.,  3.,  4.,  5.,  6.,  7.,  8.,  9., 10.]),\n",
       " <BarContainer object of 10 artists>)"
      ]
     },
     "execution_count": 9,
     "metadata": {},
     "output_type": "execute_result"
    },
    {
     "data": {
      "image/png": "[encoded data removed]",
      "text/plain": [
       "<Figure size 432x288 with 1 Axes>"
      ]
     },
     "metadata": {
      "needs_background": "light"
     },
     "output_type": "display_data"
    }
   ],
   "source": [
    "plt.hist(g_h_in)"
   ]
  },
  {
   "cell_type": "code",
   "execution_count": 10,
   "id": "soviet-color",
   "metadata": {},
   "outputs": [
    {
     "data": {
      "text/plain": [
       "(array([135., 417., 614., 775., 743., 619., 418., 364., 278., 437.]),\n",
       " array([ 0.,  1.,  2.,  3.,  4.,  5.,  6.,  7.,  8.,  9., 10.]),\n",
       " <BarContainer object of 10 artists>)"
      ]
     },
     "execution_count": 10,
     "metadata": {},
     "output_type": "execute_result"
    },
    {
     "data": {
      "image/png": "[encoded data removed]",
      "text/plain": [
       "<Figure size 432x288 with 1 Axes>"
      ]
     },
     "metadata": {
      "needs_background": "light"
     },
     "output_type": "display_data"
    }
   ],
   "source": [
    "plt.hist(g_l_in)"
   ]
  },
  {
   "cell_type": "markdown",
   "id": "adaptive-equality",
   "metadata": {},
   "source": [
    "#### 40% disc with restriction that in most cases send less than 50%"
   ]
  },
  {
   "cell_type": "code",
   "execution_count": 8,
   "id": "visible-hartford",
   "metadata": {},
   "outputs": [
    {
     "data": {
      "text/plain": [
       "(array([2211., 4343., 1731., 1540., 1362.,  744.,  205.,  196.,  182.,\n",
       "         286.]),\n",
       " array([ 0.,  1.,  2.,  3.,  4.,  5.,  6.,  7.,  8.,  9., 10.]),\n",
       " <BarContainer object of 10 artists>)"
      ]
     },
     "execution_count": 8,
     "metadata": {},
     "output_type": "execute_result"
    },
    {
     "data": {
      "image/png": "[encoded data removed]",
      "text/plain": [
       "<Figure size 432x288 with 1 Axes>"
      ]
     },
     "metadata": {
      "needs_background": "light"
     },
     "output_type": "display_data"
    }
   ],
   "source": [
    "plt.hist(g_out) "
   ]
  },
  {
   "cell_type": "code",
   "execution_count": 9,
   "id": "listed-mandate",
   "metadata": {},
   "outputs": [
    {
     "data": {
      "text/plain": [
       "(array([ 592., 1627., 1563.,  920.,  833.,  423.,   86.,  111.,   97.,\n",
       "         148.]),\n",
       " array([ 0.,  1.,  2.,  3.,  4.,  5.,  6.,  7.,  8.,  9., 10.]),\n",
       " <BarContainer object of 10 artists>)"
      ]
     },
     "execution_count": 9,
     "metadata": {},
     "output_type": "execute_result"
    },
    {
     "data": {
      "image/png": "[encoded data removed]",
      "text/plain": [
       "<Figure size 432x288 with 1 Axes>"
      ]
     },
     "metadata": {
      "needs_background": "light"
     },
     "output_type": "display_data"
    }
   ],
   "source": [
    "plt.hist(g_h_in)"
   ]
  },
  {
   "cell_type": "code",
   "execution_count": 10,
   "id": "geographic-interference",
   "metadata": {},
   "outputs": [
    {
     "data": {
      "text/plain": [
       "(array([ 312.,  958., 1262.,  899.,  636.,  364.,  112.,   74.,   66.,\n",
       "         117.]),\n",
       " array([ 0.,  1.,  2.,  3.,  4.,  5.,  6.,  7.,  8.,  9., 10.]),\n",
       " <BarContainer object of 10 artists>)"
      ]
     },
     "execution_count": 10,
     "metadata": {},
     "output_type": "execute_result"
    },
    {
     "data": {
      "image/png": "[encoded data removed]",
      "text/plain": [
       "<Figure size 432x288 with 1 Axes>"
      ]
     },
     "metadata": {
      "needs_background": "light"
     },
     "output_type": "display_data"
    }
   ],
   "source": [
    "plt.hist(g_l_in)"
   ]
  },
  {
   "cell_type": "markdown",
   "id": "backed-kuwait",
   "metadata": {},
   "source": [
    "#### 40% with restriction with unequal group sizes"
   ]
  },
  {
   "cell_type": "code",
   "execution_count": 8,
   "id": "perfect-ghost",
   "metadata": {},
   "outputs": [
    {
     "data": {
      "text/plain": [
       "(array([2208., 4274., 1756., 1542., 1367.,  757.,  199.,  185.,  223.,\n",
       "         289.]),\n",
       " array([ 0.,  1.,  2.,  3.,  4.,  5.,  6.,  7.,  8.,  9., 10.]),\n",
       " <BarContainer object of 10 artists>)"
      ]
     },
     "execution_count": 8,
     "metadata": {},
     "output_type": "execute_result"
    },
    {
     "data": {
      "image/png": "[encoded data removed]",
      "text/plain": [
       "<Figure size 432x288 with 1 Axes>"
      ]
     },
     "metadata": {
      "needs_background": "light"
     },
     "output_type": "display_data"
    }
   ],
   "source": [
    "plt.hist(g_out) "
   ]
  },
  {
   "cell_type": "code",
   "execution_count": 9,
   "id": "approved-regression",
   "metadata": {},
   "outputs": [
    {
     "data": {
      "text/plain": [
       "(array([305., 856., 751., 472., 405., 220.,  45.,  50.,  42.,  84.]),\n",
       " array([ 0.,  1.,  2.,  3.,  4.,  5.,  6.,  7.,  8.,  9., 10.]),\n",
       " <BarContainer object of 10 artists>)"
      ]
     },
     "execution_count": 9,
     "metadata": {},
     "output_type": "execute_result"
    },
    {
     "data": {
      "image/png": "[encoded data removed]",
      "text/plain": [
       "<Figure size 432x288 with 1 Axes>"
      ]
     },
     "metadata": {
      "needs_background": "light"
     },
     "output_type": "display_data"
    }
   ],
   "source": [
    "plt.hist(g_h_in)"
   ]
  },
  {
   "cell_type": "code",
   "execution_count": 10,
   "id": "boolean-crawford",
   "metadata": {},
   "outputs": [
    {
     "data": {
      "text/plain": [
       "(array([ 461., 1371., 2013., 1688., 1127.,  616.,  213.,  162.,  129.,\n",
       "         190.]),\n",
       " array([ 0.,  1.,  2.,  3.,  4.,  5.,  6.,  7.,  8.,  9., 10.]),\n",
       " <BarContainer object of 10 artists>)"
      ]
     },
     "execution_count": 10,
     "metadata": {},
     "output_type": "execute_result"
    },
    {
     "data": {
      "image/png": "[encoded data removed]",
      "text/plain": [
       "<Figure size 432x288 with 1 Axes>"
      ]
     },
     "metadata": {
      "needs_background": "light"
     },
     "output_type": "display_data"
    }
   ],
   "source": [
    "plt.hist(g_l_in)"
   ]
  },
  {
   "cell_type": "code",
   "execution_count": 16,
   "id": "global-bidder",
   "metadata": {},
   "outputs": [
    {
     "data": {
      "text/plain": [
       "(array([ 3780.,     0.,     0.,   555.,     0.,     0.,  8220.,     0.,\n",
       "            0., 11445.]),\n",
       " array([1.0, 1.3, 1.6, 1.9, 2.2, 2.5, 2.8, 3.1, 3.4, 3.6999999999999997,\n",
       "        4.0], dtype=object),\n",
       " <BarContainer object of 10 artists>)"
      ]
     },
     "execution_count": 16,
     "metadata": {},
     "output_type": "execute_result"
    },
    {
     "data": {
      "image/png": "[encoded data removed]",
      "text/plain": [
       "<Figure size 432x288 with 1 Axes>"
      ]
     },
     "metadata": {
      "needs_background": "light"
     },
     "output_type": "display_data"
    }
   ],
   "source": [
    "plt.hist(dff['init_type'])"
   ]
  },
  {
   "cell_type": "code",
   "execution_count": 28,
   "id": "otherwise-peninsula",
   "metadata": {},
   "outputs": [
    {
     "data": {
      "text/plain": [
       "(array([480.,   0.,   0.,   0.,   0.,   0.,   0.,   0.,   0.,  75.]),\n",
       " array([0. , 0.1, 0.2, 0.3, 0.4, 0.5, 0.6, 0.7, 0.8, 0.9, 1. ]),\n",
       " <BarContainer object of 10 artists>)"
      ]
     },
     "execution_count": 28,
     "metadata": {},
     "output_type": "execute_result"
    },
    {
     "data": {
      "image/png": "[encoded data removed]",
      "text/plain": [
       "<Figure size 432x288 with 1 Axes>"
      ]
     },
     "metadata": {
      "needs_background": "light"
     },
     "output_type": "display_data"
    }
   ],
   "source": [
    "l = [str(i) for i in list(dff[dff['init_type']==2]['type'])]\n",
    "plt.hist(l)"
   ]
  },
  {
   "cell_type": "code",
   "execution_count": 27,
   "id": "hispanic-adoption",
   "metadata": {},
   "outputs": [
    {
     "data": {
      "text/plain": [
       "(array([10800.,     0.,  5400.,     0.,  1305.,     0.,  1125.,     0.,\n",
       "         5295.,    75.]),\n",
       " array([0. , 0.5, 1. , 1.5, 2. , 2.5, 3. , 3.5, 4. , 4.5, 5. ]),\n",
       " <BarContainer object of 10 artists>)"
      ]
     },
     "execution_count": 27,
     "metadata": {},
     "output_type": "execute_result"
    },
    {
     "data": {
      "image/png": "[encoded data removed]",
      "text/plain": [
       "<Figure size 432x288 with 1 Axes>"
      ]
     },
     "metadata": {
      "needs_background": "light"
     },
     "output_type": "display_data"
    }
   ],
   "source": [
    "l = [str(i) for i in list(dff['type'])]\n",
    "plt.hist(l)"
   ]
  },
  {
   "cell_type": "markdown",
   "id": "viral-drilling",
   "metadata": {},
   "source": [
    "#### privilege and minority: feminist case"
   ]
  },
  {
   "cell_type": "code",
   "execution_count": null,
   "id": "satisfactory-gathering",
   "metadata": {},
   "outputs": [],
   "source": [
    "from mesa import Agent, Model\n",
    "from mesa.time import RandomActivation\n",
    "from mesa.datacollection import DataCollector\n",
    "from mesa.batchrunner import BatchRunner\n",
    "import random\n",
    "import pandas as pd\n",
    "import numpy as np\n",
    "import seaborn as sns\n",
    "import pickle\n",
    "import matplotlib.pyplot as plt"
   ]
  },
  {
   "cell_type": "code",
   "execution_count": 2,
   "id": "devoted-clinton",
   "metadata": {},
   "outputs": [],
   "source": [
    "def gen_type_lst(num_agent):\n",
    "    r = num_agent % 4\n",
    "    num_no_res = num_agent - r\n",
    "    num_avg = int(num_no_res / 4)\n",
    "    lst_types = []\n",
    "    types = ['ff','nf','fm','nm'] #feminist female, non-feminist female, feminist male, non-feminist male\n",
    "\n",
    "    num_ff = round(num_avg*random.uniform(0,0.6)) #feminist female\n",
    "    if num_ff <= 1:\n",
    "        num_ff = 1\n",
    "    lst_ff = ['ff'][:]*num_ff\n",
    "    lst_types += lst_ff\n",
    "\n",
    "    num_nf = num_avg * 2 - num_ff\n",
    "    lst_nf = ['nf'][:]*num_nf\n",
    "    lst_types += lst_nf\n",
    "\n",
    "    num_fm = round(num_avg*random.uniform(0,0.4)) #feminist male\n",
    "    if num_fm <= 1:\n",
    "        num_fm = 1\n",
    "    lst_fm = ['fm'][:]*num_fm\n",
    "    lst_types += lst_fm\n",
    "    \n",
    "    num_nm = num_avg * 2 - num_fm\n",
    "    lst_nm = ['nm'][:]*num_nm\n",
    "    lst_types += lst_nm\n",
    "\n",
    "    for _ in range(r):\n",
    "        i = random.choice(types)\n",
    "        lst_types.append(i)\n",
    "        types.remove(i)\n",
    "\n",
    "    return lst_types\n",
    "\n",
    "class Agent(Agent):\n",
    "    \"\"\" An agent with fixed initial wealth.\"\"\"\n",
    "    def __init__(self, unique_id, model):\n",
    "        super().__init__(unique_id, model)\n",
    "        r = random.choice(self.model.index)\n",
    "        rand = self.model.lst_types[r]\n",
    "        self.type = rand\n",
    "        self.init_type = rand\n",
    "        if self.unique_id not in self.model.giving_df['id']:\n",
    "            if self.init_type == 'ff':\n",
    "                self.wealth = 10\n",
    "            else:\n",
    "                self.wealth = 0\n",
    "        else:\n",
    "            df = self.model.giving_df\n",
    "            self.wealth = list(df['wealth'][df['id'] == self.unique_id])[-1]\n",
    "        self.model.index.remove(r)\n",
    "        self.met = [self.unique_id] \n",
    "        self.group_wealth_l = 0\n",
    "        self.group_wealth_h = 0\n",
    "            \n",
    "    def step(self):\n",
    "        if len(self.model.giving_df) > 9 and list(self.model.giving_df['id'])[-1] != self.unique_id:\n",
    "            self.met = [self.unique_id] \n",
    "        self.set_type()\n",
    "        while len(self.met) != len(self.model.schedule.agents):\n",
    "            other_agent = self.random.choice(self.model.schedule.agents)\n",
    "            if other_agent.unique_id not in self.met:\n",
    "                propo = self.gen_propo(other_agent)\n",
    "                propo = self.propo_res(propo)\n",
    "                giving = round(propo * 10)\n",
    "                other_agent.wealth += giving\n",
    "                self.wealth += (10 - giving)\n",
    "                self.met.append(other_agent.unique_id)\n",
    "                self.model.giving_df.loc[len(self.model.giving_df.index)] = [self.model.round, int(self.unique_id), int(self.wealth), self.group_wealth_l, self.group_wealth_h, self.init_type, self.type, other_agent.init_type,giving,propo]\n",
    "                \n",
    "    def set_type(self):\n",
    "        typ = self.type\n",
    "        if typ in ['ff','nf']:\n",
    "            h_type = 'f'\n",
    "        else:\n",
    "            h_type = 'm'\n",
    "        wealth_l = 0\n",
    "        num_l = 0\n",
    "        wealth_h = 0\n",
    "        num_h = 0\n",
    "        for a in self.model.schedule.agents:\n",
    "            if a.type == typ:\n",
    "                wealth_l += a.wealth\n",
    "                wealth_h += a.wealth\n",
    "                num_l += 1\n",
    "                num_h += 1\n",
    "            elif a.type.endswith(typ[-1]):\n",
    "                wealth_h += a.wealth\n",
    "                num_h += 1\n",
    "        avg_l = wealth_l / num_l\n",
    "        avg_h = wealth_h / num_h\n",
    "        self.group_wealth_l = avg_l\n",
    "        self.group_wealth_h = avg_h\n",
    "        \n",
    "        if avg_l < avg_h:    #equal is considered in as emphasizing lower based on data and results\n",
    "            self.type = h_type\n",
    "    \n",
    "    def gen_propo(self,other):\n",
    "        propo = random.uniform(0,0.3) # needs literature\n",
    "        rand = random.uniform(0,1)\n",
    "        if rand >= 0.6:     #assuming 40% ppl discriminate; will dep on data as input\n",
    "            if len(self.type) == len(other.type):\n",
    "                if len(self.type) == 1:\n",
    "                    if self.type == other.type:\n",
    "                        propo += random.uniform(0,0.3)\n",
    "                    else:\n",
    "                        if other.type == 'm':\n",
    "                            propo += random.uniform(0,0.4) #patriarchy\n",
    "                        else:\n",
    "                            propo -= random.uniform(0,0.3) #misogyny    \n",
    "                else:\n",
    "                    if self.type == 'ff':\n",
    "                        if other.type in ['ff','fm']:\n",
    "                            propo += random.uniform(0,0.3)\n",
    "                            propo += random.uniform(0,0.3)\n",
    "                        elif other.type == 'nf':\n",
    "                            propo += random.uniform(0,0.3)\n",
    "                    elif self.type == 'fm':\n",
    "                        if other.type in ['ff','fm']:\n",
    "                            propo += random.uniform(0,0.3)\n",
    "                            propo += random.uniform(0,0.3)\n",
    "                        else:\n",
    "                            propo += random.uniform(0,0.3)\n",
    "                    elif self.type == 'nf':\n",
    "                        if other.type in ['fm','nm']:\n",
    "                            propo += random.uniform(0,0.3)\n",
    "                        else:\n",
    "                            propo -= random.uniform(0,0.2) # homophily\n",
    "                    else:\n",
    "                        if other.type =='ff':\n",
    "                            propo -= random.uniform(0,0.3)\n",
    "                            propo -= random.uniform(0,0.3)\n",
    "                        elif other.type == 'nf':\n",
    "                            propo -= random.uniform(0,0.3)\n",
    "                        else:\n",
    "                            propo += random.uniform(0,0.3)\n",
    "            else:\n",
    "                if len(self.type) == 1:\n",
    "                    if self.type == 'm': #less aggressive as less specification\n",
    "                        if other.type =='ff':\n",
    "                            propo -= random.uniform(0,0.2)\n",
    "                            propo -= random.uniform(0,0.2)\n",
    "                        elif other.type == 'nf':\n",
    "                            propo -= random.uniform(0,0.2)\n",
    "                        else:\n",
    "                            propo += random.uniform(0,0.2)\n",
    "                    elif self.type == 'f':\n",
    "                        if other.type in ['fm','nm']:\n",
    "                            propo += random.uniform(0,0.2)\n",
    "                        else:\n",
    "                            propo -= random.uniform(0,0.1)\n",
    "                else:\n",
    "                    if self.type == 'ff':\n",
    "                        if other.type == 'f':\n",
    "                            propo += random.uniform(0,0.3)\n",
    "                    elif self.type == 'fm':\n",
    "                        propo += random.uniform(0,0.3)\n",
    "                    else:\n",
    "                        if other.type == 'f':\n",
    "                            propo -= random.uniform(0,0.2)\n",
    "                        else:\n",
    "                            propo += random.uniform(0,0.2)\n",
    "        else:\n",
    "            propo = random.uniform(0,1)\n",
    "\n",
    "        if propo > 1:\n",
    "            propo = 1\n",
    "        elif propo < 0:\n",
    "            propo = 0\n",
    "            \n",
    "        return propo\n",
    "    \n",
    "    def propo_res(self,propo):\n",
    "        rand = random.uniform(0,1)\n",
    "        if rand <= 0.75:    #will input based on lit\n",
    "            actual_propo = propo * 0.5\n",
    "        else:\n",
    "            actual_propo = propo\n",
    "            \n",
    "        return actual_propo \n",
    "\n",
    "class Model(Model):\n",
    "    \"\"\"A model with some number of agents.\"\"\"\n",
    "    def __init__(self, N,R):\n",
    "        self.num_agents = N\n",
    "        self.schedule = RandomActivation(self)\n",
    "        self.running = True\n",
    "        self.giving_df = pd.DataFrame(columns=['round','id','wealth','low group wealth', 'high group wealth','init_type','type','other type','giving','propo'])\n",
    "        self.lst_types = gen_type_lst(N)\n",
    "        self.index = list(range(N))\n",
    "        self.round = R\n",
    "        # Create agents\n",
    "        for i in range(self.num_agents):\n",
    "            a = Agent(i, self)\n",
    "            self.schedule.add(a)    #seems like a list of all agents\n",
    "\n",
    "    def step(self):\n",
    "        '''Advance the model by one step.'''\n",
    "        self.schedule.step()\n",
    "        \n",
    "        \n",
    "        \n",
    "        "
   ]
  },
  {
   "cell_type": "code",
   "execution_count": 8,
   "id": "beginning-plain",
   "metadata": {},
   "outputs": [],
   "source": [
    "df = []\n",
    "\n",
    "m = Model(30,i)\n",
    "for _ in range(50):\n",
    "    m.step()\n",
    "    df.append(m.giving_df)"
   ]
  },
  {
   "cell_type": "code",
   "execution_count": null,
   "id": "alternative-corporation",
   "metadata": {},
   "outputs": [],
   "source": []
  },
  {
   "cell_type": "code",
   "execution_count": 9,
   "id": "spoken-penetration",
   "metadata": {},
   "outputs": [],
   "source": [
    "dfff = pd.concat(df)\n",
    "#d = pickle.dumps(dff)"
   ]
  },
  {
   "cell_type": "code",
   "execution_count": 12,
   "id": "extraordinary-interpretation",
   "metadata": {},
   "outputs": [],
   "source": [
    "dff.to_csv(r'/Users/sagel/Desktop/fem_simul_30*30.csv')"
   ]
  },
  {
   "cell_type": "code",
   "execution_count": 13,
   "id": "conceptual-wrong",
   "metadata": {},
   "outputs": [],
   "source": [
    "dfff.to_csv(r'/Users/sagel/Desktop/fem_simul_30*50.csv')"
   ]
  },
  {
   "cell_type": "code",
   "execution_count": 6,
   "id": "buried-zoning",
   "metadata": {},
   "outputs": [
    {
     "data": {
      "image/png": "[encoded data removed]",
      "text/plain": [
       "<Figure size 360x360 with 1 Axes>"
      ]
     },
     "metadata": {
      "needs_background": "light"
     },
     "output_type": "display_data"
    },
    {
     "data": {
      "image/png": "[encoded data removed]",
      "text/plain": [
       "<Figure size 360x360 with 1 Axes>"
      ]
     },
     "metadata": {
      "needs_background": "light"
     },
     "output_type": "display_data"
    }
   ],
   "source": [
    "a = sns.displot(dff['init_type'],kde = True)\n",
    "b = sns.displot(dff['type'],kde = True)"
   ]
  },
  {
   "cell_type": "code",
   "execution_count": 7,
   "id": "detected-wheel",
   "metadata": {},
   "outputs": [
    {
     "data": {
      "text/plain": [
       "(array([ 117.,    0.,  180.,    0.,    0.,   54.,    0., 3393.,    0.,\n",
       "        5175.]),\n",
       " array([1. , 1.4, 1.8, 2.2, 2.6, 3. , 3.4, 3.8, 4.2, 4.6, 5. ]),\n",
       " <BarContainer object of 10 artists>)"
      ]
     },
     "execution_count": 7,
     "metadata": {},
     "output_type": "execute_result"
    },
    {
     "data": {
      "image/png": "[encoded data removed]",
      "text/plain": [
       "<Figure size 432x288 with 1 Axes>"
      ]
     },
     "metadata": {
      "needs_background": "light"
     },
     "output_type": "display_data"
    }
   ],
   "source": [
    "plt.hist(dff['init_type'])\n",
    "plt.hist(dff['type'])"
   ]
  },
  {
   "cell_type": "code",
   "execution_count": null,
   "id": "everyday-minute",
   "metadata": {},
   "outputs": [],
   "source": [
    "plt.hist([str(i) for i in dff['init_type']])\n",
    "plt.hist([str(i) for i in dff['type']])"
   ]
  },
  {
   "cell_type": "code",
   "execution_count": 3,
   "id": "intensive-raise",
   "metadata": {},
   "outputs": [],
   "source": [
    "df = []\n",
    "for i in range(100):\n",
    "    m = Model(16, i)\n",
    "    m.step()\n",
    "    df.append(m.giving_df)\n",
    "dff=pd.concat(df)\n",
    "# this has been saved in pickle as 'p'"
   ]
  },
  {
   "cell_type": "code",
   "execution_count": 7,
   "id": "satisfied-taylor",
   "metadata": {},
   "outputs": [
    {
     "data": {
      "text/plain": [
       "0        0.0\n",
       "1        0.0\n",
       "2        0.0\n",
       "3        0.0\n",
       "4        0.0\n",
       "       ...  \n",
       "235    115.0\n",
       "236    115.0\n",
       "237    115.0\n",
       "238    115.0\n",
       "239    115.0\n",
       "Name: group wealth, Length: 24000, dtype: float64"
      ]
     },
     "execution_count": 7,
     "metadata": {},
     "output_type": "execute_result"
    }
   ],
   "source": [
    "dff['group wealth']"
   ]
  },
  {
   "cell_type": "code",
   "execution_count": 10,
   "id": "friendly-artist",
   "metadata": {},
   "outputs": [],
   "source": [
    "import seaborn as sns"
   ]
  },
  {
   "cell_type": "code",
   "execution_count": 23,
   "id": "colored-investigation",
   "metadata": {},
   "outputs": [
    {
     "data": {
      "text/plain": [
       "<seaborn.axisgrid.FacetGrid at 0x7fd1f06f3790>"
      ]
     },
     "execution_count": 23,
     "metadata": {},
     "output_type": "execute_result"
    },
    {
     "data": {
      "image/png": "[encoded data removed]",
      "text/plain": [
       "<Figure size 360x360 with 1 Axes>"
      ]
     },
     "metadata": {
      "needs_background": "light"
     },
     "output_type": "display_data"
    }
   ],
   "source": [
    "#1. rel--scatter plot\n",
    "sns.relplot(data = dff, x='init_type',y='giving',kind='scatter')\n",
    "#hue: group by type and assign different colors to them"
   ]
  },
  {
   "cell_type": "code",
   "execution_count": 35,
   "id": "offshore-uganda",
   "metadata": {},
   "outputs": [
    {
     "data": {
      "image/png": "[encoded data removed]",
      "text/plain": [
       "<Figure size 360x360 with 1 Axes>"
      ]
     },
     "metadata": {
      "needs_background": "light"
     },
     "output_type": "display_data"
    }
   ],
   "source": [
    "#3. dist\n",
    "l = list(dff['init_type'][dff['round'] == 2])\n",
    "avg1 = sns.displot(l, kde=True)#kde - kernel density "
   ]
  },
  {
   "cell_type": "code",
   "execution_count": 37,
   "id": "unusual-field",
   "metadata": {},
   "outputs": [
    {
     "data": {
      "text/plain": [
       "<seaborn.axisgrid.FacetGrid at 0x7ff24e97df70>"
      ]
     },
     "execution_count": 37,
     "metadata": {},
     "output_type": "execute_result"
    },
    {
     "data": {
      "image/png": "[encoded data removed]",
      "text/plain": [
       "<Figure size 360x360 with 1 Axes>"
      ]
     },
     "metadata": {
      "needs_background": "light"
     },
     "output_type": "display_data"
    }
   ],
   "source": [
    "#3. dist\n",
    "l = list(dff[dff.init_type == 3]['wealth'])\n",
    "sns.displot(l,kde=True)#kde - kernel density "
   ]
  },
  {
   "cell_type": "code",
   "execution_count": null,
   "id": "administrative-feeding",
   "metadata": {},
   "outputs": [],
   "source": []
  },
  {
   "cell_type": "code",
   "execution_count": null,
   "id": "indirect-celebrity",
   "metadata": {},
   "outputs": [],
   "source": []
  },
  {
   "cell_type": "code",
   "execution_count": 19,
   "id": "daily-research",
   "metadata": {},
   "outputs": [],
   "source": [
    "g_out = []\n",
    "g_h_in = []\n",
    "g_l_in = []\n",
    "empha = []\n",
    "\n",
    "for r in dff.iterrows():\n",
    "    if r[1][1] == r[1][3]:\n",
    "        g_l_in.append(r[1][5])\n",
    "    elif r[1][1]%2 == r[1][3]%2:\n",
    "        g_h_in.append(r[1][5])\n",
    "    else:\n",
    "        g_out.append(r[1][5])\n",
    "    empha.append(r[1][4])\n",
    " \n",
    "    \n",
    "wealth_by_init = []\n",
    "for i in range(1,5):\n",
    "    l = list(dff[dff['init_type'] == i]['wealth'])\n",
    "    avg_wealth = sum(l) / len(l)\n",
    "    wealth_by_init.append(avg_wealth)"
   ]
  },
  {
   "cell_type": "code",
   "execution_count": 8,
   "id": "modified-indiana",
   "metadata": {},
   "outputs": [
    {
     "data": {
      "text/plain": [
       "(array([1457., 3367., 2662., 1916., 1502.,  877.,  250.,  237.,  223.,\n",
       "         309.]),\n",
       " array([ 0.,  1.,  2.,  3.,  4.,  5.,  6.,  7.,  8.,  9., 10.]),\n",
       " <BarContainer object of 10 artists>)"
      ]
     },
     "execution_count": 8,
     "metadata": {},
     "output_type": "execute_result"
    },
    {
     "data": {
      "image/png": "[encoded data removed]",
      "text/plain": [
       "<Figure size 432x288 with 1 Axes>"
      ]
     },
     "metadata": {
      "needs_background": "light"
     },
     "output_type": "display_data"
    }
   ],
   "source": [
    "plt.hist(g_out) "
   ]
  },
  {
   "cell_type": "code",
   "execution_count": 9,
   "id": "employed-assistant",
   "metadata": {},
   "outputs": [
    {
     "data": {
      "text/plain": [
       "(array([344., 728., 317., 275., 260., 118.,  33.,  46.,  32.,  45.]),\n",
       " array([ 0.,  1.,  2.,  3.,  4.,  5.,  6.,  7.,  8.,  9., 10.]),\n",
       " <BarContainer object of 10 artists>)"
      ]
     },
     "execution_count": 9,
     "metadata": {},
     "output_type": "execute_result"
    },
    {
     "data": {
      "image/png": "[encoded data removed]",
      "text/plain": [
       "<Figure size 432x288 with 1 Axes>"
      ]
     },
     "metadata": {
      "needs_background": "light"
     },
     "output_type": "display_data"
    }
   ],
   "source": [
    "plt.hist(g_h_in)"
   ]
  },
  {
   "cell_type": "code",
   "execution_count": 10,
   "id": "trained-coordination",
   "metadata": {},
   "outputs": [
    {
     "data": {
      "text/plain": [
       "(array([ 692., 2301., 2277., 1320., 1175.,  627.,  151.,  133.,  126.,\n",
       "         200.]),\n",
       " array([ 0.,  1.,  2.,  3.,  4.,  5.,  6.,  7.,  8.,  9., 10.]),\n",
       " <BarContainer object of 10 artists>)"
      ]
     },
     "execution_count": 10,
     "metadata": {},
     "output_type": "execute_result"
    },
    {
     "data": {
      "image/png": "[encoded data removed]",
      "text/plain": [
       "<Figure size 432x288 with 1 Axes>"
      ]
     },
     "metadata": {
      "needs_background": "light"
     },
     "output_type": "display_data"
    }
   ],
   "source": [
    "plt.hist(g_l_in)"
   ]
  },
  {
   "cell_type": "code",
   "execution_count": 11,
   "id": "metric-watershed",
   "metadata": {},
   "outputs": [
    {
     "data": {
      "text/plain": [
       "(array([320., 636., 261., 245., 206., 110.,  28.,  46.,  25.,  43.]),\n",
       " array([0.0, 1.0, 2.0, 3.0, 4.0, 5.0, 6.0, 7.0, 8.0, 9.0, 10.0],\n",
       "       dtype=object),\n",
       " <BarContainer object of 10 artists>)"
      ]
     },
     "execution_count": 11,
     "metadata": {},
     "output_type": "execute_result"
    },
    {
     "data": {
      "image/png": "[encoded data removed]",
      "text/plain": [
       "<Figure size 432x288 with 1 Axes>"
      ]
     },
     "metadata": {
      "needs_background": "light"
     },
     "output_type": "display_data"
    }
   ],
   "source": [
    "plt.hist(dff[dff['other type'] == 1]['giving'])"
   ]
  },
  {
   "cell_type": "code",
   "execution_count": 12,
   "id": "million-blackberry",
   "metadata": {},
   "outputs": [
    {
     "data": {
      "text/plain": [
       "(array([ 1920.,     0.,     0.,   615.,     0.,     0., 10080.,     0.,\n",
       "            0., 11385.]),\n",
       " array([1.0, 1.3, 1.6, 1.9, 2.2, 2.5, 2.8, 3.1, 3.4, 3.6999999999999997,\n",
       "        4.0], dtype=object),\n",
       " <BarContainer object of 10 artists>)"
      ]
     },
     "execution_count": 12,
     "metadata": {},
     "output_type": "execute_result"
    },
    {
     "data": {
      "image/png": "[encoded data removed]",
      "text/plain": [
       "<Figure size 432x288 with 1 Axes>"
      ]
     },
     "metadata": {
      "needs_background": "light"
     },
     "output_type": "display_data"
    }
   ],
   "source": [
    "plt.hist(dff['init_type'])"
   ]
  },
  {
   "cell_type": "code",
   "execution_count": 14,
   "id": "frank-space",
   "metadata": {},
   "outputs": [
    {
     "data": {
      "text/plain": [
       "(array([ 8235.,     0., 10650.,     0.,  1800.,     0.,  1260.,     0.,\n",
       "         1965.,    90.]),\n",
       " array([0. , 0.5, 1. , 1.5, 2. , 2.5, 3. , 3.5, 4. , 4.5, 5. ]),\n",
       " <BarContainer object of 10 artists>)"
      ]
     },
     "execution_count": 14,
     "metadata": {},
     "output_type": "execute_result"
    },
    {
     "data": {
      "image/png": "[encoded data removed]",
      "text/plain": [
       "<Figure size 432x288 with 1 Axes>"
      ]
     },
     "metadata": {
      "needs_background": "light"
     },
     "output_type": "display_data"
    }
   ],
   "source": [
    "plt.hist([str(i) for i in dff['type']])"
   ]
  },
  {
   "cell_type": "code",
   "execution_count": 22,
   "id": "velvet-renewal",
   "metadata": {},
   "outputs": [
    {
     "data": {
      "text/plain": [
       "[89.0859375, 80.95772357723577, 76.41954365079366, 80.31655687307861]"
      ]
     },
     "execution_count": 22,
     "metadata": {},
     "output_type": "execute_result"
    }
   ],
   "source": [
    "wealth_by_init"
   ]
  }
 ],
 "metadata": {
  "kernelspec": {
   "display_name": "Python 3",
   "language": "python",
   "name": "python3"
  },
  "language_info": {
   "codemirror_mode": {
    "name": "ipython",
    "version": 3
   },
   "file_extension": ".py",
   "mimetype": "text/x-python",
   "name": "python",
   "nbconvert_exporter": "python",
   "pygments_lexer": "ipython3",
   "version": "3.8.5"
  }
 },
 "nbformat": 4,
 "nbformat_minor": 5
}
